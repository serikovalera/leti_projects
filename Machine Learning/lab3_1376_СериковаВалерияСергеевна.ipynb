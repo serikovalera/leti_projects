{
 "cells": [
  {
   "cell_type": "markdown",
   "id": "3a385b6f",
   "metadata": {},
   "source": [
    "Работа №3: Исследование алгоритмов классификации"
   ]
  },
  {
   "cell_type": "markdown",
   "id": "1a3e6d0f",
   "metadata": {},
   "source": [
    "0) Оценка датасета:\n",
    "    1) Оценить какой атрибут выступит в роли целевого класса (метки)\n",
    "    2) Оценить сбалансированность классов"
   ]
  },
  {
   "cell_type": "markdown",
   "id": "652fcb5e",
   "metadata": {},
   "source": [
    "Я решила взять новый датасет:\n",
    "https://www.kaggle.com/datasets/muhammadbinimran/housing-price-prediction-data/ \n",
    "Это датасет о качестве жилья, он включает в себя площадь, спальни, ванные комнаты, типы районов, год постройки и цену."
   ]
  },
  {
   "cell_type": "code",
   "execution_count": 70,
   "id": "6df00f52",
   "metadata": {},
   "outputs": [
    {
     "data": {
      "text/html": [
       "<div>\n",
       "<style scoped>\n",
       "    .dataframe tbody tr th:only-of-type {\n",
       "        vertical-align: middle;\n",
       "    }\n",
       "\n",
       "    .dataframe tbody tr th {\n",
       "        vertical-align: top;\n",
       "    }\n",
       "\n",
       "    .dataframe thead th {\n",
       "        text-align: right;\n",
       "    }\n",
       "</style>\n",
       "<table border=\"1\" class=\"dataframe\">\n",
       "  <thead>\n",
       "    <tr style=\"text-align: right;\">\n",
       "      <th></th>\n",
       "      <th>SquareFeet</th>\n",
       "      <th>Bedrooms</th>\n",
       "      <th>Bathrooms</th>\n",
       "      <th>Neighborhood</th>\n",
       "      <th>YearBuilt</th>\n",
       "      <th>Price</th>\n",
       "      <th>Category</th>\n",
       "    </tr>\n",
       "  </thead>\n",
       "  <tbody>\n",
       "    <tr>\n",
       "      <th>0</th>\n",
       "      <td>2126</td>\n",
       "      <td>4</td>\n",
       "      <td>1</td>\n",
       "      <td>Rural</td>\n",
       "      <td>1969</td>\n",
       "      <td>215355.283618</td>\n",
       "      <td>Normal</td>\n",
       "    </tr>\n",
       "    <tr>\n",
       "      <th>1</th>\n",
       "      <td>2459</td>\n",
       "      <td>3</td>\n",
       "      <td>2</td>\n",
       "      <td>Rural</td>\n",
       "      <td>1980</td>\n",
       "      <td>195014.221626</td>\n",
       "      <td>Normal</td>\n",
       "    </tr>\n",
       "    <tr>\n",
       "      <th>2</th>\n",
       "      <td>1860</td>\n",
       "      <td>2</td>\n",
       "      <td>1</td>\n",
       "      <td>Suburb</td>\n",
       "      <td>1970</td>\n",
       "      <td>306891.012076</td>\n",
       "      <td>HardLuxe</td>\n",
       "    </tr>\n",
       "    <tr>\n",
       "      <th>3</th>\n",
       "      <td>2294</td>\n",
       "      <td>2</td>\n",
       "      <td>1</td>\n",
       "      <td>Urban</td>\n",
       "      <td>1996</td>\n",
       "      <td>206786.787153</td>\n",
       "      <td>Normal</td>\n",
       "    </tr>\n",
       "    <tr>\n",
       "      <th>4</th>\n",
       "      <td>2130</td>\n",
       "      <td>5</td>\n",
       "      <td>2</td>\n",
       "      <td>Suburb</td>\n",
       "      <td>2001</td>\n",
       "      <td>272436.239065</td>\n",
       "      <td>HardLuxe</td>\n",
       "    </tr>\n",
       "  </tbody>\n",
       "</table>\n",
       "</div>"
      ],
      "text/plain": [
       "   SquareFeet  Bedrooms  Bathrooms Neighborhood  YearBuilt          Price  \\\n",
       "0        2126         4          1        Rural       1969  215355.283618   \n",
       "1        2459         3          2        Rural       1980  195014.221626   \n",
       "2        1860         2          1       Suburb       1970  306891.012076   \n",
       "3        2294         2          1        Urban       1996  206786.787153   \n",
       "4        2130         5          2       Suburb       2001  272436.239065   \n",
       "\n",
       "   Category  \n",
       "0    Normal  \n",
       "1    Normal  \n",
       "2  HardLuxe  \n",
       "3    Normal  \n",
       "4  HardLuxe  "
      ]
     },
     "execution_count": 70,
     "metadata": {},
     "output_type": "execute_result"
    }
   ],
   "source": [
    "import numpy as np\n",
    "import pandas as pd\n",
    "df = pd.read_csv('housing_price_dataset.csv')\n",
    "\n",
    "def category(row):\n",
    "    first = row[\"Price\"]\n",
    "\n",
    "    if (first < 18.5):\n",
    "        return 'LowPrice'\n",
    "    elif (first> 180000 and  first < 250000):\n",
    "        return 'Normal'\n",
    "    else:\n",
    "        return 'HardLuxe'\n",
    "        \n",
    "\n",
    "df[\"Category\"] = df.apply(lambda row: category(row), axis=1)\n",
    "df.head()\n"
   ]
  },
  {
   "cell_type": "markdown",
   "id": "8a38a5a5",
   "metadata": {},
   "source": [
    "Здесь целевым классом будет \"Category\". Теперь проверим на сбалансированность."
   ]
  },
  {
   "cell_type": "code",
   "execution_count": 43,
   "id": "8865b0cc",
   "metadata": {},
   "outputs": [
    {
     "name": "stdout",
     "output_type": "stream",
     "text": [
      "LowPrice:  19077\n",
      "Normal:  16302\n",
      "HardLuxe:  14621\n",
      "Imbalance: 0.0\n"
     ]
    }
   ],
   "source": [
    "from collections import Counter\n",
    "\n",
    "category_count = Counter(df[\"Category\"])\n",
    "\n",
    "imbalance = 1 - sum(category_count.values()) / len(df)\n",
    "print (\"LowPrice: \" , category_count['HardLuxe'])\n",
    "print (\"Normal: \" , category_count['Normal'])\n",
    "print (\"HardLuxe: \" ,category_count['LowPrice'])\n",
    "print(\"Imbalance:\", imbalance)"
   ]
  },
  {
   "cell_type": "markdown",
   "id": "a1567a39",
   "metadata": {},
   "source": [
    "Видим, что класс сбалансирован."
   ]
  },
  {
   "cell_type": "markdown",
   "id": "7f50f220",
   "metadata": {},
   "source": [
    "1. Необходимо оценить и сравнить результаты классификации, используя следующие\n",
    "алгоритмы классификации:\n",
    "* kNN\n",
    "* дерево решений"
   ]
  },
  {
   "cell_type": "markdown",
   "id": "430e85f1",
   "metadata": {},
   "source": [
    "1.1) kNN"
   ]
  },
  {
   "cell_type": "code",
   "execution_count": 71,
   "id": "76bd49c5",
   "metadata": {},
   "outputs": [],
   "source": [
    "#Удалим класс Neighborhood он не подходит нам по типу \n",
    "df.drop('Neighborhood', axis= 1 , inplace= True ) "
   ]
  },
  {
   "cell_type": "code",
   "execution_count": 58,
   "id": "11b2b2d0",
   "metadata": {},
   "outputs": [
    {
     "name": "stdout",
     "output_type": "stream",
     "text": [
      "              precision    recall  f1-score   support\n",
      "\n",
      "    HardLuxe       0.98      0.97      0.97      3834\n",
      "    LowPrice       0.97      0.97      0.97      2911\n",
      "      Normal       0.94      0.94      0.94      3255\n",
      "\n",
      "    accuracy                           0.96     10000\n",
      "   macro avg       0.96      0.96      0.96     10000\n",
      "weighted avg       0.96      0.96      0.96     10000\n",
      "\n"
     ]
    }
   ],
   "source": [
    "import matplotlib.pyplot as plt\n",
    "import seaborn as sns\n",
    "from sklearn.preprocessing import StandardScaler\n",
    "from sklearn.model_selection import train_test_split\n",
    "from sklearn.neighbors import KNeighborsClassifier\n",
    "from sklearn.metrics import classification_report\n",
    "from sklearn.metrics import confusion_matrix\n",
    "%matplotlib inline\n",
    "\n",
    "#Стандартизация датасета\n",
    "scaler = StandardScaler()\n",
    "scaler.fit(df.drop('Category', axis=1))\n",
    "# применим метод transform для стандартизации всех признаков,\n",
    "scaled_features = scaler.transform(df.drop('Category', axis=1))\n",
    "scaled_data = pd.DataFrame(scaled_features, columns = df.drop('Category', axis=1).columns)\n",
    "\n",
    "#Разделение датасета на обучающие и тестовые данные\n",
    "x = scaled_data\n",
    "y = df['Category']\n",
    "#будем использовать test_size 20%\n",
    "x_training_data, x_test_data, y_training_data, y_test_data = train_test_split(x, y, test_size = 0.2)\n",
    "\n",
    "#Обучение модели K-ближайших соседей\n",
    "model = KNeighborsClassifier(n_neighbors = 1)\n",
    "model.fit(x_training_data, y_training_data)\n",
    "\n",
    "#Делаем предсказания с помощью алгоритма K-ближайших соседей\n",
    "predictions = model.predict(x_test_data)\n",
    "print(classification_report(y_test_data, predictions))"
   ]
  },
  {
   "cell_type": "code",
   "execution_count": 59,
   "id": "5d3f4138",
   "metadata": {},
   "outputs": [
    {
     "name": "stdout",
     "output_type": "stream",
     "text": [
      "[[1498 1106 1230]\n",
      " [1148  817  946]\n",
      " [1244  993 1018]]\n"
     ]
    }
   ],
   "source": [
    "#матрицa ошибок\n",
    "y_pred = classifier.predict(X_test)\n",
    "print(confusion_matrix(y_test_data, y_pred)) "
   ]
  },
  {
   "cell_type": "markdown",
   "id": "cf85a55b",
   "metadata": {},
   "source": [
    "Вывод:\n",
    "Алгоритм k-ближайших соседей (kNN) показывает хорошую точность классификации. \n",
    "Первый класс имеет 1498 ошибок, что является самым высоким значением среди всех классов. Это может быть связано с тем, что этот класс является самым многочисленным и алгоритм может испытывать трудности в его классификации.\n",
    "Для улучшения точности алгоритма можно попробовать использовать различные метрики расстояния при вычислении близости между точками. Некоторые метрики могут быть более эффективны для определенных типов данных."
   ]
  },
  {
   "cell_type": "markdown",
   "id": "341b7b14",
   "metadata": {},
   "source": [
    "1.2) Дерево решений"
   ]
  },
  {
   "cell_type": "code",
   "execution_count": 62,
   "id": "178d4de6",
   "metadata": {},
   "outputs": [
    {
     "name": "stdout",
     "output_type": "stream",
     "text": [
      "              precision    recall  f1-score   support\n",
      "\n",
      "    HardLuxe       1.00      1.00      1.00      3772\n",
      "    LowPrice       1.00      1.00      1.00      2907\n",
      "      Normal       1.00      1.00      1.00      3321\n",
      "\n",
      "    accuracy                           1.00     10000\n",
      "   macro avg       1.00      1.00      1.00     10000\n",
      "weighted avg       1.00      1.00      1.00     10000\n",
      "\n",
      "[[3772    0    0]\n",
      " [   0 2907    0]\n",
      " [   0    0 3321]]\n"
     ]
    }
   ],
   "source": [
    "from sklearn.tree import DecisionTreeClassifier\n",
    "#Разделение датасета на обучающие и тестовые данные\n",
    "#будем использовать test_size 20%\n",
    "x = scaled_data\n",
    "y = df['Category']\n",
    "X_train, X_test, y_train, y_test = train_test_split(X, y, test_size=0.20)\n",
    "\n",
    "#Алгоритм дерева решений\n",
    "classifier = DecisionTreeClassifier() \n",
    "classifier.fit(X_train, y_train)\n",
    "#Делаем предсказания с помощью алгоритма K-ближайших соседей\n",
    "y_pred = classifier.predict(X_test)\n",
    "print(classification_report(y_test, y_pred))\n",
    "#матрицa ошибок\n",
    "print(confusion_matrix(y_test, y_pred))"
   ]
  },
  {
   "cell_type": "markdown",
   "id": "78b80030",
   "metadata": {},
   "source": [
    "Обший вывод:\n",
    "Результаты алгоритмов отличаются несильно. "
   ]
  },
  {
   "cell_type": "markdown",
   "id": "0b7e69fe",
   "metadata": {},
   "source": [
    "2. Сравнить полученные результаты с помощью различных метрик оценки качества:\n",
    "Accuracy\n",
    "Presicion, Recall, F-measure\n",
    "ROC"
   ]
  },
  {
   "cell_type": "markdown",
   "id": "9e0e682a",
   "metadata": {},
   "source": [
    "Точность (Accuracy) - это процент правильно классифицированных данных. В моём случае точность для KNN составляет 96%, а для Дерева решений - 100%.\n",
    "\n",
    "Precision - это отношение верно классифицированных объектов к числу объектов, классифицированных как положительные. \n",
    "\n",
    "Recall - это отношение верно классифицированных положительных объектов ко всем положительным объектам. \n",
    "\n",
    "F1-measure - это комбинация Precision и Recall. \n",
    "\n",
    "ROC-кривая (Receiver Operating Characteristic) показывает зависимость между долей верно классифицированных положительных образцов (TPR) и долей неверно классифицированных отрицательных образцов (FPR).\n",
    "\n",
    "По результатам двух алгоВ результате сравнения алгоритмов KNN и Дерева решений с использованием различных метрик качества, таких как точность (Accuracy), Precision, Recall, F1-score и ROC-кривые, было выявлено, что оба алгоритма достаточно хорошо справляются с задачей классификации. Однако алгоритм Дерева решений показал немного лучшие результаты, возможно благодаря своей способности обрабатывать нелинейные зависимости между признаками.ритмов мы видим, что дерево решений точнее, чем алгоритм kNN."
   ]
  },
  {
   "cell_type": "markdown",
   "id": "7be29ccc",
   "metadata": {},
   "source": [
    "3. Объяснить полученные результаты"
   ]
  },
  {
   "cell_type": "markdown",
   "id": "5dfb1ee6",
   "metadata": {},
   "source": [
    "Результаты могут варьироваться в зависимости от набора данных и гиперпараметров, выбранных для каждого алгоритма. Поэтому, чтобы получить более точные результаты, можно провести дополнительные эксперименты с различными параметрами и наборами данных."
   ]
  },
  {
   "cell_type": "code",
   "execution_count": null,
   "id": "c67f369f",
   "metadata": {},
   "outputs": [],
   "source": []
  }
 ],
 "metadata": {
  "kernelspec": {
   "display_name": "Python 3 (ipykernel)",
   "language": "python",
   "name": "python3"
  },
  "language_info": {
   "codemirror_mode": {
    "name": "ipython",
    "version": 3
   },
   "file_extension": ".py",
   "mimetype": "text/x-python",
   "name": "python",
   "nbconvert_exporter": "python",
   "pygments_lexer": "ipython3",
   "version": "3.11.5"
  }
 },
 "nbformat": 4,
 "nbformat_minor": 5
}
